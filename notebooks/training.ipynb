{
 "cells": [
  {
   "cell_type": "code",
   "execution_count": 4,
   "metadata": {
    "ExecuteTime": {
     "end_time": "2017-07-01T17:51:03.526084",
     "start_time": "2017-07-01T17:51:02.381187"
    },
    "collapsed": false
   },
   "outputs": [],
   "source": [
    "import os\n",
    "import sys\n",
    "import pandas as pd\n",
    "\n",
    "sys.path.append('../deepcut')\n",
    "\n",
    "from train import train_model, generate_best_dataset"
   ]
  },
  {
   "cell_type": "code",
   "execution_count": 5,
   "metadata": {
    "ExecuteTime": {
     "end_time": "2017-07-01T17:51:42.362448",
     "start_time": "2017-07-01T17:51:05.173439"
    },
    "collapsed": false
   },
   "outputs": [
    {
     "name": "stderr",
     "output_type": "stream",
     "text": [
      "/home/ARStaff01/Development/deepcut/notebooks/../deepcut/train.py:35: SyntaxWarning: \"is not\" with a literal. Did you mean \"!=\"?\n",
      "  words = [word for word in line.split(\"|\") if word is not '\\n']\n",
      "/home/ARStaff01/Development/deepcut/notebooks/../deepcut/train.py:35: SyntaxWarning: \"is not\" with a literal. Did you mean \"!=\"?\n",
      "  words = [word for word in line.split(\"|\") if word is not '\\n']\n"
     ]
    },
    {
     "ename": "ValueError",
     "evalue": "With n_samples=0, test_size=0.1 and train_size=None, the resulting train set will be empty. Adjust any of the aforementioned parameters.",
     "output_type": "error",
     "traceback": [
      "\u001b[0;31m---------------------------------------------------------------------------\u001b[0m",
      "\u001b[0;31mValueError\u001b[0m                                Traceback (most recent call last)",
      "\u001b[1;32m/home/ARStaff01/Development/deepcut/notebooks/training.ipynb Cell 2\u001b[0m line \u001b[0;36m3\n\u001b[1;32m      <a href='vscode-notebook-cell://ssh-remote%2B7b22686f73744e616d65223a223232332e32372e3230322e323334222c2275736572223a22415253746166663031227d/home/ARStaff01/Development/deepcut/notebooks/training.ipynb#W1sdnNjb2RlLXJlbW90ZQ%3D%3D?line=0'>1</a>\u001b[0m \u001b[39m# BEST corpus should be extracted into 'input' folder on the same directory as this notebook \u001b[39;00m\n\u001b[0;32m----> <a href='vscode-notebook-cell://ssh-remote%2B7b22686f73744e616d65223a223232332e32372e3230322e323334222c2275736572223a22415253746166663031227d/home/ARStaff01/Development/deepcut/notebooks/training.ipynb#W1sdnNjb2RlLXJlbW90ZQ%3D%3D?line=2'>3</a>\u001b[0m generate_best_dataset(\u001b[39m'\u001b[39;49m\u001b[39minput\u001b[39;49m\u001b[39m'\u001b[39;49m)\n",
      "File \u001b[0;32m~/Development/deepcut/notebooks/../deepcut/train.py:93\u001b[0m, in \u001b[0;36mgenerate_best_dataset\u001b[0;34m(best_path, output_path, create_val)\u001b[0m\n\u001b[1;32m     91\u001b[0m \u001b[39mfor\u001b[39;00m article_type \u001b[39min\u001b[39;00m article_types:\n\u001b[1;32m     92\u001b[0m     files \u001b[39m=\u001b[39m glob(os\u001b[39m.\u001b[39mpath\u001b[39m.\u001b[39mjoin(best_path, article_type, \u001b[39m'\u001b[39m\u001b[39m*.txt\u001b[39m\u001b[39m'\u001b[39m))\n\u001b[0;32m---> 93\u001b[0m     files_train, files_test \u001b[39m=\u001b[39m train_test_split(files, random_state\u001b[39m=\u001b[39;49m\u001b[39m0\u001b[39;49m, test_size\u001b[39m=\u001b[39;49m\u001b[39m0.1\u001b[39;49m)\n\u001b[1;32m     94\u001b[0m     \u001b[39mif\u001b[39;00m create_val:\n\u001b[1;32m     95\u001b[0m         files_train, files_val \u001b[39m=\u001b[39m train_test_split(files_train, random_state\u001b[39m=\u001b[39m\u001b[39m0\u001b[39m, test_size\u001b[39m=\u001b[39m\u001b[39m0.1\u001b[39m)\n",
      "File \u001b[0;32m~/Development/deepcut/deepcut_venv/lib64/python3.9/site-packages/sklearn/utils/_param_validation.py:214\u001b[0m, in \u001b[0;36mvalidate_params.<locals>.decorator.<locals>.wrapper\u001b[0;34m(*args, **kwargs)\u001b[0m\n\u001b[1;32m    208\u001b[0m \u001b[39mtry\u001b[39;00m:\n\u001b[1;32m    209\u001b[0m     \u001b[39mwith\u001b[39;00m config_context(\n\u001b[1;32m    210\u001b[0m         skip_parameter_validation\u001b[39m=\u001b[39m(\n\u001b[1;32m    211\u001b[0m             prefer_skip_nested_validation \u001b[39mor\u001b[39;00m global_skip_validation\n\u001b[1;32m    212\u001b[0m         )\n\u001b[1;32m    213\u001b[0m     ):\n\u001b[0;32m--> 214\u001b[0m         \u001b[39mreturn\u001b[39;00m func(\u001b[39m*\u001b[39;49margs, \u001b[39m*\u001b[39;49m\u001b[39m*\u001b[39;49mkwargs)\n\u001b[1;32m    215\u001b[0m \u001b[39mexcept\u001b[39;00m InvalidParameterError \u001b[39mas\u001b[39;00m e:\n\u001b[1;32m    216\u001b[0m     \u001b[39m# When the function is just a wrapper around an estimator, we allow\u001b[39;00m\n\u001b[1;32m    217\u001b[0m     \u001b[39m# the function to delegate validation to the estimator, but we replace\u001b[39;00m\n\u001b[1;32m    218\u001b[0m     \u001b[39m# the name of the estimator by the name of the function in the error\u001b[39;00m\n\u001b[1;32m    219\u001b[0m     \u001b[39m# message to avoid confusion.\u001b[39;00m\n\u001b[1;32m    220\u001b[0m     msg \u001b[39m=\u001b[39m re\u001b[39m.\u001b[39msub(\n\u001b[1;32m    221\u001b[0m         \u001b[39mr\u001b[39m\u001b[39m\"\u001b[39m\u001b[39mparameter of \u001b[39m\u001b[39m\\\u001b[39m\u001b[39mw+ must be\u001b[39m\u001b[39m\"\u001b[39m,\n\u001b[1;32m    222\u001b[0m         \u001b[39mf\u001b[39m\u001b[39m\"\u001b[39m\u001b[39mparameter of \u001b[39m\u001b[39m{\u001b[39;00mfunc\u001b[39m.\u001b[39m\u001b[39m__qualname__\u001b[39m\u001b[39m}\u001b[39;00m\u001b[39m must be\u001b[39m\u001b[39m\"\u001b[39m,\n\u001b[1;32m    223\u001b[0m         \u001b[39mstr\u001b[39m(e),\n\u001b[1;32m    224\u001b[0m     )\n",
      "File \u001b[0;32m~/Development/deepcut/deepcut_venv/lib64/python3.9/site-packages/sklearn/model_selection/_split.py:2649\u001b[0m, in \u001b[0;36mtrain_test_split\u001b[0;34m(test_size, train_size, random_state, shuffle, stratify, *arrays)\u001b[0m\n\u001b[1;32m   2646\u001b[0m arrays \u001b[39m=\u001b[39m indexable(\u001b[39m*\u001b[39marrays)\n\u001b[1;32m   2648\u001b[0m n_samples \u001b[39m=\u001b[39m _num_samples(arrays[\u001b[39m0\u001b[39m])\n\u001b[0;32m-> 2649\u001b[0m n_train, n_test \u001b[39m=\u001b[39m _validate_shuffle_split(\n\u001b[1;32m   2650\u001b[0m     n_samples, test_size, train_size, default_test_size\u001b[39m=\u001b[39;49m\u001b[39m0.25\u001b[39;49m\n\u001b[1;32m   2651\u001b[0m )\n\u001b[1;32m   2653\u001b[0m \u001b[39mif\u001b[39;00m shuffle \u001b[39mis\u001b[39;00m \u001b[39mFalse\u001b[39;00m:\n\u001b[1;32m   2654\u001b[0m     \u001b[39mif\u001b[39;00m stratify \u001b[39mis\u001b[39;00m \u001b[39mnot\u001b[39;00m \u001b[39mNone\u001b[39;00m:\n",
      "File \u001b[0;32m~/Development/deepcut/deepcut_venv/lib64/python3.9/site-packages/sklearn/model_selection/_split.py:2305\u001b[0m, in \u001b[0;36m_validate_shuffle_split\u001b[0;34m(n_samples, test_size, train_size, default_test_size)\u001b[0m\n\u001b[1;32m   2302\u001b[0m n_train, n_test \u001b[39m=\u001b[39m \u001b[39mint\u001b[39m(n_train), \u001b[39mint\u001b[39m(n_test)\n\u001b[1;32m   2304\u001b[0m \u001b[39mif\u001b[39;00m n_train \u001b[39m==\u001b[39m \u001b[39m0\u001b[39m:\n\u001b[0;32m-> 2305\u001b[0m     \u001b[39mraise\u001b[39;00m \u001b[39mValueError\u001b[39;00m(\n\u001b[1;32m   2306\u001b[0m         \u001b[39m\"\u001b[39m\u001b[39mWith n_samples=\u001b[39m\u001b[39m{}\u001b[39;00m\u001b[39m, test_size=\u001b[39m\u001b[39m{}\u001b[39;00m\u001b[39m and train_size=\u001b[39m\u001b[39m{}\u001b[39;00m\u001b[39m, the \u001b[39m\u001b[39m\"\u001b[39m\n\u001b[1;32m   2307\u001b[0m         \u001b[39m\"\u001b[39m\u001b[39mresulting train set will be empty. Adjust any of the \u001b[39m\u001b[39m\"\u001b[39m\n\u001b[1;32m   2308\u001b[0m         \u001b[39m\"\u001b[39m\u001b[39maforementioned parameters.\u001b[39m\u001b[39m\"\u001b[39m\u001b[39m.\u001b[39mformat(n_samples, test_size, train_size)\n\u001b[1;32m   2309\u001b[0m     )\n\u001b[1;32m   2311\u001b[0m \u001b[39mreturn\u001b[39;00m n_train, n_test\n",
      "\u001b[0;31mValueError\u001b[0m: With n_samples=0, test_size=0.1 and train_size=None, the resulting train set will be empty. Adjust any of the aforementioned parameters."
     ]
    }
   ],
   "source": [
    "# BEST corpus should be extracted into 'input' folder on the same directory as this notebook \n",
    "\n",
    "generate_best_dataset('input')"
   ]
  },
  {
   "cell_type": "code",
   "execution_count": 3,
   "metadata": {
    "ExecuteTime": {
     "end_time": "2017-07-01T23:59:16.422755",
     "start_time": "2017-07-01T17:52:07.311854"
    },
    "collapsed": false
   },
   "outputs": [
    {
     "name": "stdout",
     "output_type": "stream",
     "text": [
      "Train on 18724989 samples, validate on 2044274 samples\n",
      "Epoch 1/10\n",
      "1238s - loss: 0.0612 - acc: 0.9774 - val_loss: 0.0445 - val_acc: 0.9844\n",
      "Epoch 2/10\n",
      "1244s - loss: 0.0433 - acc: 0.9846 - val_loss: 0.0399 - val_acc: 0.9861\n",
      "Epoch 3/10\n",
      "1241s - loss: 0.0387 - acc: 0.9863 - val_loss: 0.0379 - val_acc: 0.9870\n",
      "Epoch 4/10\n",
      "1223s - loss: 0.0362 - acc: 0.9873 - val_loss: 0.0363 - val_acc: 0.9876\n",
      "Epoch 5/10\n",
      "1227s - loss: 0.0345 - acc: 0.9879 - val_loss: 0.0349 - val_acc: 0.9879\n",
      "Epoch 6/10\n",
      "1241s - loss: 0.0331 - acc: 0.9884 - val_loss: 0.0345 - val_acc: 0.9882\n",
      "Epoch 7/10\n",
      "1238s - loss: 0.0321 - acc: 0.9888 - val_loss: 0.0343 - val_acc: 0.9884\n",
      "Epoch 8/10\n",
      "1232s - loss: 0.0313 - acc: 0.9891 - val_loss: 0.0330 - val_acc: 0.9887\n",
      "Epoch 9/10\n",
      "1216s - loss: 0.0307 - acc: 0.9893 - val_loss: 0.0331 - val_acc: 0.9887\n",
      "Epoch 10/10\n",
      "1209s - loss: 0.0301 - acc: 0.9895 - val_loss: 0.0332 - val_acc: 0.9887\n",
      "Train on 18724989 samples, validate on 2044274 samples\n",
      "Epoch 1/3\n",
      "945s - loss: 0.0284 - acc: 0.9901 - val_loss: 0.0320 - val_acc: 0.9891\n",
      "Epoch 2/3\n",
      "944s - loss: 0.0278 - acc: 0.9903 - val_loss: 0.0321 - val_acc: 0.9891\n",
      "Epoch 3/3\n",
      "945s - loss: 0.0275 - acc: 0.9904 - val_loss: 0.0313 - val_acc: 0.9892\n",
      "Train on 18724989 samples, validate on 2044274 samples\n",
      "Epoch 1/3\n",
      "780s - loss: 0.0257 - acc: 0.9910 - val_loss: 0.0313 - val_acc: 0.9896\n",
      "Epoch 2/3\n",
      "782s - loss: 0.0254 - acc: 0.9912 - val_loss: 0.0309 - val_acc: 0.9895\n",
      "Epoch 3/3\n",
      "782s - loss: 0.0251 - acc: 0.9912 - val_loss: 0.0311 - val_acc: 0.9896\n",
      "Train on 18724989 samples, validate on 2044274 samples\n",
      "Epoch 1/3\n",
      "752s - loss: 0.0245 - acc: 0.9915 - val_loss: 0.0308 - val_acc: 0.9896\n",
      "Epoch 2/3\n",
      "750s - loss: 0.0244 - acc: 0.9915 - val_loss: 0.0308 - val_acc: 0.9896\n",
      "Epoch 3/3\n",
      "751s - loss: 0.0242 - acc: 0.9915 - val_loss: 0.0304 - val_acc: 0.9898\n",
      "Train on 18724989 samples, validate on 2044274 samples\n",
      "Epoch 1/3\n",
      "751s - loss: 0.0237 - acc: 0.9917 - val_loss: 0.0305 - val_acc: 0.9897\n",
      "Epoch 2/3\n",
      "749s - loss: 0.0236 - acc: 0.9918 - val_loss: 0.0305 - val_acc: 0.9898\n",
      "Epoch 3/3\n",
      "753s - loss: 0.0235 - acc: 0.9918 - val_loss: 0.0307 - val_acc: 0.9898\n"
     ]
    }
   ],
   "source": [
    "model = train_model('cleaned_data')"
   ]
  },
  {
   "cell_type": "code",
   "execution_count": 4,
   "metadata": {
    "ExecuteTime": {
     "end_time": "2017-07-02T00:01:15.488025",
     "start_time": "2017-07-01T23:59:16.427044"
    },
    "collapsed": false
   },
   "outputs": [
    {
     "data": {
      "text/plain": [
       "(0.98121855103256694, 0.97789486109173629, 0.98456491128245205)"
      ]
     },
     "execution_count": 4,
     "metadata": {},
     "output_type": "execute_result"
    }
   ],
   "source": [
    "evaluate('cleaned_data', model)"
   ]
  },
  {
   "cell_type": "markdown",
   "metadata": {
    "collapsed": true
   },
   "source": [
    "The performance is lower when we strip name entity and abbreviation tag (< NE >....< /NE > and < AB >...< /AB >) out of training and testing data. "
   ]
  },
  {
   "cell_type": "code",
   "execution_count": null,
   "metadata": {
    "collapsed": true
   },
   "outputs": [],
   "source": []
  }
 ],
 "metadata": {
  "kernelspec": {
   "display_name": "Python 3",
   "language": "python",
   "name": "python3"
  },
  "language_info": {
   "codemirror_mode": {
    "name": "ipython",
    "version": 3
   },
   "file_extension": ".py",
   "mimetype": "text/x-python",
   "name": "python",
   "nbconvert_exporter": "python",
   "pygments_lexer": "ipython3",
   "version": "3.9.16"
  }
 },
 "nbformat": 4,
 "nbformat_minor": 2
}
